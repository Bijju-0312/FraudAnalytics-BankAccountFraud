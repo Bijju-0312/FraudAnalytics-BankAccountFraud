{
  "cells": [
    {
      "cell_type": "code",
      "execution_count": 1,
      "id": "f2668c40",
      "metadata": {
        "id": "f2668c40"
      },
      "outputs": [],
      "source": [
        "import pandas as pd\n",
        "from sklearn.model_selection import train_test_split\n",
        "from sklearn.preprocessing import StandardScaler, OneHotEncoder\n",
        "from sklearn.compose import ColumnTransformer\n",
        "from sklearn.pipeline import Pipeline\n",
        "from sklearn.ensemble import IsolationForest\n",
        "from sklearn.svm import OneClassSVM\n",
        "from sklearn.metrics import confusion_matrix, classification_report\n",
        "\n",
        "# Load the dataset\n",
        "df= pd.read_csv('/content/Base.csv')\n",
        "\n"
      ]
    },
    {
      "cell_type": "code",
      "execution_count": 2,
      "id": "5ddcbcc4",
      "metadata": {
        "colab": {
          "base_uri": "https://localhost:8080/"
        },
        "id": "5ddcbcc4",
        "outputId": "4d1a11db-5b00-45d8-c4bf-86ce33b1b998"
      },
      "outputs": [
        {
          "output_type": "stream",
          "name": "stdout",
          "text": [
            "<class 'pandas.core.frame.DataFrame'>\n",
            "RangeIndex: 324383 entries, 0 to 324382\n",
            "Data columns (total 32 columns):\n",
            " #   Column                            Non-Null Count   Dtype  \n",
            "---  ------                            --------------   -----  \n",
            " 0   fraud_bool                        324383 non-null  int64  \n",
            " 1   income                            324383 non-null  float64\n",
            " 2   name_email_similarity             324383 non-null  float64\n",
            " 3   prev_address_months_count         324383 non-null  int64  \n",
            " 4   current_address_months_count      324383 non-null  int64  \n",
            " 5   customer_age                      324383 non-null  int64  \n",
            " 6   days_since_request                324383 non-null  float64\n",
            " 7   intended_balcon_amount            324382 non-null  float64\n",
            " 8   payment_type                      324382 non-null  object \n",
            " 9   zip_count_4w                      324382 non-null  float64\n",
            " 10  velocity_6h                       324382 non-null  float64\n",
            " 11  velocity_24h                      324382 non-null  float64\n",
            " 12  velocity_4w                       324382 non-null  float64\n",
            " 13  bank_branch_count_8w              324382 non-null  float64\n",
            " 14  date_of_birth_distinct_emails_4w  324382 non-null  float64\n",
            " 15  employment_status                 324382 non-null  object \n",
            " 16  credit_risk_score                 324382 non-null  float64\n",
            " 17  email_is_free                     324382 non-null  float64\n",
            " 18  housing_status                    324382 non-null  object \n",
            " 19  phone_home_valid                  324382 non-null  float64\n",
            " 20  phone_mobile_valid                324382 non-null  float64\n",
            " 21  bank_months_count                 324382 non-null  float64\n",
            " 22  has_other_cards                   324382 non-null  float64\n",
            " 23  proposed_credit_limit             324382 non-null  float64\n",
            " 24  foreign_request                   324382 non-null  float64\n",
            " 25  source                            324382 non-null  object \n",
            " 26  session_length_in_minutes         324382 non-null  float64\n",
            " 27  device_os                         324382 non-null  object \n",
            " 28  keep_alive_session                324382 non-null  float64\n",
            " 29  device_distinct_emails_8w         324382 non-null  float64\n",
            " 30  device_fraud_count                324382 non-null  float64\n",
            " 31  month                             324382 non-null  float64\n",
            "dtypes: float64(23), int64(4), object(5)\n",
            "memory usage: 79.2+ MB\n"
          ]
        }
      ],
      "source": [
        "df.info()"
      ]
    },
    {
      "cell_type": "code",
      "execution_count": 3,
      "id": "701de9ac",
      "metadata": {
        "id": "701de9ac"
      },
      "outputs": [],
      "source": [
        "import numpy as np\n",
        "import pandas as pd\n",
        "import matplotlib.pyplot as plt\n",
        "import seaborn as sns\n",
        "from sklearn.metrics import classification_report, accuracy_score\n",
        "from sklearn.ensemble import IsolationForest\n",
        "from sklearn.neighbors import LocalOutlierFactor\n",
        "from sklearn.svm import OneClassSVM\n",
        "from pylab import rcParams"
      ]
    },
    {
      "cell_type": "code",
      "execution_count": 4,
      "id": "20e1376e",
      "metadata": {
        "id": "20e1376e"
      },
      "outputs": [],
      "source": [
        "# Set the figure size for plots\n",
        "rcParams['figure.figsize'] = 14, 8\n"
      ]
    },
    {
      "cell_type": "code",
      "execution_count": 5,
      "id": "0c062f58",
      "metadata": {
        "id": "0c062f58"
      },
      "outputs": [],
      "source": [
        "# Set random seed\n",
        "RANDOM_SEED = 42\n",
        "\n",
        "# Labels for plot\n",
        "LABELS = [\"Normal\", \"Fraud\"]\n"
      ]
    },
    {
      "cell_type": "code",
      "execution_count": 6,
      "id": "dfd9b6d4",
      "metadata": {
        "colab": {
          "base_uri": "https://localhost:8080/",
          "height": 718
        },
        "id": "dfd9b6d4",
        "outputId": "393d416e-6a3b-405e-892b-217cd9f81675"
      },
      "outputs": [
        {
          "output_type": "display_data",
          "data": {
            "text/plain": [
              "<Figure size 1400x800 with 1 Axes>"
            ],
            "image/png": "[encoded data removed]"
          },
          "metadata": {}
        }
      ],
      "source": [
        "# Determine the number of fraud and valid transactions in the entire dataset\n",
        "count_classes = pd.value_counts(df['fraud_bool'], sort=True)\n",
        "count_classes.plot(kind='bar', rot=0)\n",
        "plt.title(\"Transaction Class Distribution\")\n",
        "plt.xticks(range(2), LABELS)\n",
        "plt.xlabel(\"Class\")\n",
        "plt.ylabel(\"Frequency\")\n",
        "plt.show()"
      ]
    },
    {
      "cell_type": "code",
      "execution_count": 7,
      "id": "872a1b38",
      "metadata": {
        "id": "872a1b38"
      },
      "outputs": [],
      "source": [
        "# Assigning the transaction class \"0 = NORMAL  & 1 = FRAUD\"\n",
        "Normal = df[df['fraud_bool'] == 0]\n",
        "Fraud = df[df['fraud_bool'] == 1]"
      ]
    },
    {
      "cell_type": "code",
      "execution_count": 8,
      "id": "e8ddccbc",
      "metadata": {
        "colab": {
          "base_uri": "https://localhost:8080/"
        },
        "id": "e8ddccbc",
        "outputId": "c681fb15-86ac-4340-b0bf-6c73a72edb30"
      },
      "outputs": [
        {
          "output_type": "stream",
          "name": "stdout",
          "text": [
            "0.010038641296055847\n",
            "Fraud Cases : 3224\n",
            "Normal Cases : 321159\n"
          ]
        }
      ],
      "source": [
        "# Print outlier fraction\n",
        "outlier_fraction = len(Fraud) / float(len(Normal))\n",
        "print(outlier_fraction)\n",
        "print(\"Fraud Cases : {}\".format(len(Fraud)))\n",
        "print(\"Normal Cases : {}\".format(len(Normal)))"
      ]
    },
    {
      "cell_type": "code",
      "execution_count": 9,
      "id": "3214a972",
      "metadata": {
        "colab": {
          "base_uri": "https://localhost:8080/"
        },
        "id": "3214a972",
        "outputId": "f5495d34-75b4-4e26-e74b-bebe8970ef5f"
      },
      "outputs": [
        {
          "output_type": "stream",
          "name": "stdout",
          "text": [
            "0.009774623334578509\n",
            "Fraud Cases : 314\n",
            "Normal Cases : 32124\n"
          ]
        }
      ],
      "source": [
        "# Sample a fraction of the dataset\n",
        "df1 = df.sample(frac=0.1, random_state=1)\n",
        "Normal1 = df1[df1['fraud_bool'] == 0]\n",
        "Fraud1 = df1[df1['fraud_bool'] == 1]\n",
        "outlier_fraction1 = len(Fraud1) / float(len(Normal1))\n",
        "print(outlier_fraction1)\n",
        "print(\"Fraud Cases : {}\".format(len(Fraud1)))\n",
        "print(\"Normal Cases : {}\".format(len(Normal1)))"
      ]
    },
    {
      "cell_type": "code",
      "source": [
        "print(df1.columns.tolist())\n"
      ],
      "metadata": {
        "colab": {
          "base_uri": "https://localhost:8080/"
        },
        "id": "ANcPTWikT6B4",
        "outputId": "cd0eb57c-e80d-4f80-fa5e-6cf09deb5c91"
      },
      "id": "ANcPTWikT6B4",
      "execution_count": 10,
      "outputs": [
        {
          "output_type": "stream",
          "name": "stdout",
          "text": [
            "['fraud_bool', 'income', 'name_email_similarity', 'prev_address_months_count', 'current_address_months_count', 'customer_age', 'days_since_request', 'intended_balcon_amount', 'payment_type', 'zip_count_4w', 'velocity_6h', 'velocity_24h', 'velocity_4w', 'bank_branch_count_8w', 'date_of_birth_distinct_emails_4w', 'employment_status', 'credit_risk_score', 'email_is_free', 'housing_status', 'phone_home_valid', 'phone_mobile_valid', 'bank_months_count', 'has_other_cards', 'proposed_credit_limit', 'foreign_request', 'source', 'session_length_in_minutes', 'device_os', 'keep_alive_session', 'device_distinct_emails_8w', 'device_fraud_count', 'month']\n"
          ]
        }
      ]
    },
    {
      "cell_type": "code",
      "source": [
        "# Print column names in df1\n",
        "print(df1.columns)\n"
      ],
      "metadata": {
        "colab": {
          "base_uri": "https://localhost:8080/"
        },
        "id": "251MsQIxYBIH",
        "outputId": "e2e5339d-5d35-43c0-8449-3a3df365a826"
      },
      "id": "251MsQIxYBIH",
      "execution_count": 11,
      "outputs": [
        {
          "output_type": "stream",
          "name": "stdout",
          "text": [
            "Index(['fraud_bool', 'income', 'name_email_similarity',\n",
            "       'prev_address_months_count', 'current_address_months_count',\n",
            "       'customer_age', 'days_since_request', 'intended_balcon_amount',\n",
            "       'payment_type', 'zip_count_4w', 'velocity_6h', 'velocity_24h',\n",
            "       'velocity_4w', 'bank_branch_count_8w',\n",
            "       'date_of_birth_distinct_emails_4w', 'employment_status',\n",
            "       'credit_risk_score', 'email_is_free', 'housing_status',\n",
            "       'phone_home_valid', 'phone_mobile_valid', 'bank_months_count',\n",
            "       'has_other_cards', 'proposed_credit_limit', 'foreign_request', 'source',\n",
            "       'session_length_in_minutes', 'device_os', 'keep_alive_session',\n",
            "       'device_distinct_emails_8w', 'device_fraud_count', 'month'],\n",
            "      dtype='object')\n"
          ]
        }
      ]
    },
    {
      "cell_type": "code",
      "source": [
        "print(df1.columns)"
      ],
      "metadata": {
        "colab": {
          "base_uri": "https://localhost:8080/"
        },
        "id": "2Pd4ml49Yt4K",
        "outputId": "8a0f96fe-f9cd-4a5b-9d97-7e9a00f00f37"
      },
      "id": "2Pd4ml49Yt4K",
      "execution_count": 15,
      "outputs": [
        {
          "output_type": "stream",
          "name": "stdout",
          "text": [
            "Index(['fraud_bool', 'income', 'name_email_similarity',\n",
            "       'prev_address_months_count', 'current_address_months_count',\n",
            "       'customer_age', 'days_since_request', 'intended_balcon_amount',\n",
            "       'zip_count_4w', 'velocity_6h', 'velocity_24h', 'velocity_4w',\n",
            "       'bank_branch_count_8w', 'date_of_birth_distinct_emails_4w',\n",
            "       'credit_risk_score', 'email_is_free', 'phone_home_valid',\n",
            "       'phone_mobile_valid', 'bank_months_count', 'has_other_cards',\n",
            "       'proposed_credit_limit', 'foreign_request', 'session_length_in_minutes',\n",
            "       'keep_alive_session', 'device_distinct_emails_8w', 'device_fraud_count',\n",
            "       'month', 'housing_status_BA', 'housing_status_BB', 'housing_status_BC',\n",
            "       'housing_status_BD', 'housing_status_BE', 'housing_status_BF',\n",
            "       'housing_status_BG', 'payment_type_AA', 'payment_type_AB',\n",
            "       'payment_type_AC', 'payment_type_AD', 'payment_type_AE',\n",
            "       'employment_status_CA', 'employment_status_CB', 'employment_status_CC',\n",
            "       'employment_status_CD', 'employment_status_CE', 'employment_status_CF',\n",
            "       'employment_status_CG', 'source_INTERNET', 'source_TELEAPP',\n",
            "       'device_os_linux', 'device_os_macintosh', 'device_os_other',\n",
            "       'device_os_windows', 'device_os_x11'],\n",
            "      dtype='object')\n"
          ]
        }
      ]
    },
    {
      "cell_type": "code",
      "source": [
        "\n",
        "\n",
        "# Get all the columns from the dataframe after one-hot encoding\n",
        "columns = df1.columns.tolist()\n",
        "\n",
        "# Filter the columns to remove data we do not want\n",
        "columns = [c for c in columns if c not in [\"fraud_bool\"]]\n",
        "\n",
        "# Store the variable we are predicting\n",
        "target = \"fraud_bool\"\n",
        "\n",
        "# Define X and Y\n",
        "X = df1[columns]\n",
        "Y = df1[target]\n",
        "\n",
        "# Define the outlier detection methods\n",
        "outlier_fraction = 0.1\n",
        "state = 0\n",
        "classifiers = {\n",
        "    \"Isolation Forest\": IsolationForest(n_estimators=100, max_samples=len(X),\n",
        "                                        contamination=outlier_fraction, random_state=state, verbose=0),\n",
        "    \"Local Outlier Factor\": LocalOutlierFactor(n_neighbors=20, algorithm='auto',\n",
        "                                               leaf_size=30, metric='minkowski', p=2, metric_params=None,\n",
        "                                               contamination=outlier_fraction),\n",
        "    \"Support Vector Machine\": OneClassSVM(kernel='rbf', degree=3, gamma=0.1, nu=0.05, max_iter=-1)\n",
        "}"
      ],
      "metadata": {
        "id": "swVcNUPpXzue"
      },
      "id": "swVcNUPpXzue",
      "execution_count": 16,
      "outputs": []
    },
    {
      "cell_type": "code",
      "source": [
        "# Fit the model\n",
        "n_outliers = len(Fraud)\n",
        "for clf_name, clf in classifiers.items():\n",
        "    # Fit the data and tag outliers\n",
        "    if clf_name == \"Local Outlier Factor\":\n",
        "        y_pred = clf.fit_predict(X)\n",
        "        scores_prediction = clf.negative_outlier_factor_\n",
        "    elif clf_name == \"Support Vector Machine\":\n",
        "        clf.fit(X)\n",
        "        y_pred = clf.predict(X)\n",
        "    else:\n",
        "        clf.fit(X)\n",
        "        scores_prediction = clf.decision_function(X)\n",
        "        y_pred = clf.predict(X)\n",
        "\n",
        "    # Reshape the prediction values to 0 for Normal transactions and 1 for Fraud transactions\n",
        "    y_pred[y_pred == 1] = 0\n",
        "    y_pred[y_pred == -1] = 1\n",
        "\n",
        "    # Count errors\n",
        "    n_errors = (y_pred != Y).sum()\n",
        "\n",
        "    # Print Classification Metrics\n",
        "    print(\"{}: {}\".format(clf_name, n_errors))\n",
        "    print(\"Accuracy Score :\")\n",
        "    print(accuracy_score(Y, y_pred))\n",
        "    print(\"Classification Report :\")\n",
        "    print(classification_report(Y, y_pred))\n"
      ],
      "metadata": {
        "colab": {
          "base_uri": "https://localhost:8080/"
        },
        "id": "Pg30LY1cY9v5",
        "outputId": "ba687012-96fc-4d9f-8be5-1c5de8131e57"
      },
      "id": "Pg30LY1cY9v5",
      "execution_count": 22,
      "outputs": [
        {
          "output_type": "stream",
          "name": "stderr",
          "text": [
            "/usr/local/lib/python3.10/dist-packages/sklearn/base.py:439: UserWarning: X does not have valid feature names, but IsolationForest was fitted with feature names\n",
            "  warnings.warn(\n"
          ]
        },
        {
          "output_type": "stream",
          "name": "stdout",
          "text": [
            "Isolation Forest: 3452\n",
            "Accuracy Score :\n",
            "0.89358160182502\n",
            "Classification Report :\n",
            "              precision    recall  f1-score   support\n",
            "\n",
            "           0       0.99      0.90      0.94     32124\n",
            "           1       0.02      0.17      0.03       314\n",
            "\n",
            "    accuracy                           0.89     32438\n",
            "   macro avg       0.50      0.53      0.49     32438\n",
            "weighted avg       0.98      0.89      0.93     32438\n",
            "\n",
            "Local Outlier Factor: 3468\n",
            "Accuracy Score :\n",
            "0.8930883531660398\n",
            "Classification Report :\n",
            "              precision    recall  f1-score   support\n",
            "\n",
            "           0       0.99      0.90      0.94     32124\n",
            "           1       0.01      0.14      0.03       314\n",
            "\n",
            "    accuracy                           0.89     32438\n",
            "   macro avg       0.50      0.52      0.48     32438\n",
            "weighted avg       0.98      0.89      0.93     32438\n",
            "\n",
            "Support Vector Machine: 25776\n",
            "Accuracy Score :\n",
            "0.20537641038288426\n",
            "Classification Report :\n",
            "              precision    recall  f1-score   support\n",
            "\n",
            "           0       0.99      0.20      0.33     32124\n",
            "           1       0.01      0.82      0.02       314\n",
            "\n",
            "    accuracy                           0.21     32438\n",
            "   macro avg       0.50      0.51      0.18     32438\n",
            "weighted avg       0.98      0.21      0.33     32438\n",
            "\n"
          ]
        }
      ]
    },
    {
      "cell_type": "code",
      "source": [],
      "metadata": {
        "id": "rGS4xp0BbFe9"
      },
      "id": "rGS4xp0BbFe9",
      "execution_count": null,
      "outputs": []
    }
  ],
  "metadata": {
    "kernelspec": {
      "display_name": "Python 3 (ipykernel)",
      "language": "python",
      "name": "python3"
    },
    "language_info": {
      "codemirror_mode": {
        "name": "ipython",
        "version": 3
      },
      "file_extension": ".py",
      "mimetype": "text/x-python",
      "name": "python",
      "nbconvert_exporter": "python",
      "pygments_lexer": "ipython3",
      "version": "3.11.5"
    },
    "colab": {
      "provenance": []
    }
  },
  "nbformat": 4,
  "nbformat_minor": 5
}